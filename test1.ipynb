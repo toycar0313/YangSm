{
  "nbformat": 4,
  "nbformat_minor": 0,
  "metadata": {
    "colab": {
      "provenance": []
    },
    "kernelspec": {
      "name": "python3",
      "display_name": "Python 3"
    },
    "language_info": {
      "name": "python"
    }
  },
  "cells": [
    {
      "cell_type": "code",
      "execution_count": null,
      "metadata": {
        "id": "0EhabB51lM76"
      },
      "outputs": [],
      "source": [
        "import torch\n",
        "from torchvision import models, transforms\n",
        "from PIL import Image\n",
        "\n",
        "# 사전 학습된 ResNet 모델 불러오기\n",
        "model = models.resnet18(pretrained=True)\n",
        "model.eval()\n",
        "\n",
        "# 이미지 전처리 및 변환\n",
        "preprocess = transforms.Compose([\n",
        "    transforms.Resize(256),\n",
        "    transforms.CenterCrop(224),\n",
        "    transforms.ToTensor(),\n",
        "    transforms.Normalize(mean=[0.485, 0.456, 0.406], std=[0.229, 0.224, 0.225]),\n",
        "])\n",
        "\n",
        "# 이미지 불러오기 및 전처리\n",
        "def load_and_preprocess_image(image_path):\n",
        "    image = Image.open(image_path)\n",
        "    image = preprocess(image).unsqueeze(0)  # batch 차원 추가\n",
        "    return image\n",
        "\n",
        "# 클래스 레이블 불러오기\n",
        "with open(\"imagenet_classes.txt\") as f:\n",
        "    labels = [line.strip() for line in f.readlines()]\n",
        "\n",
        "# 이미지 분류 함수 정의\n",
        "def classify_image(image_path):\n",
        "    # 이미지 불러오기 및 전처리\n",
        "    image = load_and_preprocess_image(image_path)\n",
        "\n",
        "    # 모델 추론\n",
        "    with torch.no_grad():\n",
        "        outputs = model(image)\n",
        "\n",
        "    # 예측 결과 확인\n",
        "    _, predicted_idx = torch.max(outputs, 1)\n",
        "    predicted_label = labels[predicted_idx[0]]\n",
        "    confidence = torch.nn.functional.softmax(outputs, dim=1)[0] * 100\n",
        "\n",
        "    # 결과 출력\n",
        "    print(f\"Predicted label: {predicted_label}\")\n",
        "    print(f\"Confidence: {confidence[predicted_idx[0]]:.2f}%\")\n",
        "\n",
        "# 이미지 분류 수행\n",
        "image_path = \"example_image.jpg\"  # 분류할 이미지 파일 경로\n",
        "classify_image(image_path)\n"
      ]
    }
  ]
}